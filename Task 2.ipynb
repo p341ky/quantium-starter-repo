{
 "cells": [
  {
   "cell_type": "code",
   "execution_count": 40,
   "id": "1ec02357-5c90-4eee-839d-86680af6429e",
   "metadata": {
    "tags": []
   },
   "outputs": [
    {
     "name": "stdout",
     "output_type": "stream",
     "text": [
      "Requirement already satisfied: pandas in c:\\users\\jean\\anaconda3\\lib\\site-packages (1.5.3)\n",
      "Requirement already satisfied: numpy in c:\\users\\jean\\anaconda3\\lib\\site-packages (1.25.0)\n",
      "Requirement already satisfied: python-dateutil>=2.8.1 in c:\\users\\jean\\anaconda3\\lib\\site-packages (from pandas) (2.8.2)\n",
      "Requirement already satisfied: pytz>=2020.1 in c:\\users\\jean\\anaconda3\\lib\\site-packages (from pandas) (2022.7)\n",
      "Requirement already satisfied: six>=1.5 in c:\\users\\jean\\anaconda3\\lib\\site-packages (from python-dateutil>=2.8.1->pandas) (1.16.0)\n"
     ]
    }
   ],
   "source": [
    "!pip install pandas numpy\n"
   ]
  },
  {
   "cell_type": "code",
   "execution_count": 41,
   "id": "e336bd00-53d3-4185-bf9a-9ba0ce9f40d7",
   "metadata": {
    "tags": []
   },
   "outputs": [],
   "source": [
    "import pandas as pd\n",
    "doc1 = pd.read_csv('data/daily_sales_data_0.csv')\n",
    "doc2 = pd.read_csv('data/daily_sales_data_1.csv')\n",
    "doc3 = pd.read_csv('data/daily_sales_data_2.csv')\n"
   ]
  },
  {
   "cell_type": "code",
   "execution_count": 42,
   "id": "c2e0d531-b6e0-460f-b4d5-dd8f5229a381",
   "metadata": {
    "tags": []
   },
   "outputs": [],
   "source": [
    "doc1 = doc1[doc1['product'] == 'pink morsel']\n",
    "doc2 = doc2[doc2['product'] == 'pink morsel']\n",
    "doc3 = doc3[doc3['product'] == 'pink morsel']"
   ]
  },
  {
   "cell_type": "code",
   "execution_count": 43,
   "id": "3288a8bc-3db1-4cfa-af90-e7eddf4a9c9d",
   "metadata": {
    "tags": []
   },
   "outputs": [
    {
     "data": {
      "text/html": [
       "<div>\n",
       "<style scoped>\n",
       "    .dataframe tbody tr th:only-of-type {\n",
       "        vertical-align: middle;\n",
       "    }\n",
       "\n",
       "    .dataframe tbody tr th {\n",
       "        vertical-align: top;\n",
       "    }\n",
       "\n",
       "    .dataframe thead th {\n",
       "        text-align: right;\n",
       "    }\n",
       "</style>\n",
       "<table border=\"1\" class=\"dataframe\">\n",
       "  <thead>\n",
       "    <tr style=\"text-align: right;\">\n",
       "      <th></th>\n",
       "      <th>product</th>\n",
       "      <th>price</th>\n",
       "      <th>quantity</th>\n",
       "      <th>date</th>\n",
       "      <th>region</th>\n",
       "    </tr>\n",
       "  </thead>\n",
       "  <tbody>\n",
       "    <tr>\n",
       "      <th>0</th>\n",
       "      <td>pink morsel</td>\n",
       "      <td>$3.00</td>\n",
       "      <td>546</td>\n",
       "      <td>2018-02-06</td>\n",
       "      <td>north</td>\n",
       "    </tr>\n",
       "    <tr>\n",
       "      <th>1</th>\n",
       "      <td>pink morsel</td>\n",
       "      <td>$3.00</td>\n",
       "      <td>549</td>\n",
       "      <td>2018-02-06</td>\n",
       "      <td>south</td>\n",
       "    </tr>\n",
       "    <tr>\n",
       "      <th>2</th>\n",
       "      <td>pink morsel</td>\n",
       "      <td>$3.00</td>\n",
       "      <td>577</td>\n",
       "      <td>2018-02-06</td>\n",
       "      <td>east</td>\n",
       "    </tr>\n",
       "    <tr>\n",
       "      <th>3</th>\n",
       "      <td>pink morsel</td>\n",
       "      <td>$3.00</td>\n",
       "      <td>519</td>\n",
       "      <td>2018-02-06</td>\n",
       "      <td>west</td>\n",
       "    </tr>\n",
       "    <tr>\n",
       "      <th>28</th>\n",
       "      <td>pink morsel</td>\n",
       "      <td>$3.00</td>\n",
       "      <td>529</td>\n",
       "      <td>2018-02-07</td>\n",
       "      <td>north</td>\n",
       "    </tr>\n",
       "    <tr>\n",
       "      <th>...</th>\n",
       "      <td>...</td>\n",
       "      <td>...</td>\n",
       "      <td>...</td>\n",
       "      <td>...</td>\n",
       "      <td>...</td>\n",
       "    </tr>\n",
       "    <tr>\n",
       "      <th>13667</th>\n",
       "      <td>pink morsel</td>\n",
       "      <td>$3.00</td>\n",
       "      <td>599</td>\n",
       "      <td>2019-06-09</td>\n",
       "      <td>west</td>\n",
       "    </tr>\n",
       "    <tr>\n",
       "      <th>13692</th>\n",
       "      <td>pink morsel</td>\n",
       "      <td>$3.00</td>\n",
       "      <td>566</td>\n",
       "      <td>2019-06-10</td>\n",
       "      <td>north</td>\n",
       "    </tr>\n",
       "    <tr>\n",
       "      <th>13693</th>\n",
       "      <td>pink morsel</td>\n",
       "      <td>$3.00</td>\n",
       "      <td>563</td>\n",
       "      <td>2019-06-10</td>\n",
       "      <td>south</td>\n",
       "    </tr>\n",
       "    <tr>\n",
       "      <th>13694</th>\n",
       "      <td>pink morsel</td>\n",
       "      <td>$3.00</td>\n",
       "      <td>541</td>\n",
       "      <td>2019-06-10</td>\n",
       "      <td>east</td>\n",
       "    </tr>\n",
       "    <tr>\n",
       "      <th>13695</th>\n",
       "      <td>pink morsel</td>\n",
       "      <td>$3.00</td>\n",
       "      <td>589</td>\n",
       "      <td>2019-06-10</td>\n",
       "      <td>west</td>\n",
       "    </tr>\n",
       "  </tbody>\n",
       "</table>\n",
       "<p>1960 rows × 5 columns</p>\n",
       "</div>"
      ],
      "text/plain": [
       "           product  price  quantity        date region\n",
       "0      pink morsel  $3.00       546  2018-02-06  north\n",
       "1      pink morsel  $3.00       549  2018-02-06  south\n",
       "2      pink morsel  $3.00       577  2018-02-06   east\n",
       "3      pink morsel  $3.00       519  2018-02-06   west\n",
       "28     pink morsel  $3.00       529  2018-02-07  north\n",
       "...            ...    ...       ...         ...    ...\n",
       "13667  pink morsel  $3.00       599  2019-06-09   west\n",
       "13692  pink morsel  $3.00       566  2019-06-10  north\n",
       "13693  pink morsel  $3.00       563  2019-06-10  south\n",
       "13694  pink morsel  $3.00       541  2019-06-10   east\n",
       "13695  pink morsel  $3.00       589  2019-06-10   west\n",
       "\n",
       "[1960 rows x 5 columns]"
      ]
     },
     "execution_count": 43,
     "metadata": {},
     "output_type": "execute_result"
    }
   ],
   "source": [
    "doc1"
   ]
  },
  {
   "cell_type": "code",
   "execution_count": 44,
   "id": "bdeadcea-4866-4704-9635-1cebef874619",
   "metadata": {
    "tags": []
   },
   "outputs": [
    {
     "name": "stderr",
     "output_type": "stream",
     "text": [
      "C:\\Users\\jean\\AppData\\Local\\Temp\\ipykernel_19268\\1447542012.py:1: FutureWarning: The default value of regex will change from True to False in a future version. In addition, single character regular expressions will *not* be treated as literal strings when regex=True.\n",
      "  doc1['price'] = doc1['price'].str.replace('$', '').astype(float)\n",
      "C:\\Users\\jean\\AppData\\Local\\Temp\\ipykernel_19268\\1447542012.py:2: FutureWarning: The default value of regex will change from True to False in a future version. In addition, single character regular expressions will *not* be treated as literal strings when regex=True.\n",
      "  doc2['price'] = doc2['price'].str.replace('$', '').astype(float)\n",
      "C:\\Users\\jean\\AppData\\Local\\Temp\\ipykernel_19268\\1447542012.py:3: FutureWarning: The default value of regex will change from True to False in a future version. In addition, single character regular expressions will *not* be treated as literal strings when regex=True.\n",
      "  doc3['price'] = doc3['price'].str.replace('$', '').astype(float)\n"
     ]
    }
   ],
   "source": [
    "doc1['price'] = doc1['price'].str.replace('$', '').astype(float)\n",
    "doc2['price'] = doc2['price'].str.replace('$', '').astype(float)\n",
    "doc3['price'] = doc3['price'].str.replace('$', '').astype(float)\n",
    "\n"
   ]
  },
  {
   "cell_type": "code",
   "execution_count": 45,
   "id": "bb8d19c2-a7d2-4bb8-95ee-eae21a2633f4",
   "metadata": {
    "tags": []
   },
   "outputs": [],
   "source": [
    "doc1['sales'] = doc1['quantity'] * doc1['price']\n",
    "doc2['sales'] = doc2['quantity'] * doc2['price']\n",
    "doc3['sales'] = doc3['quantity'] * doc3['price']\n"
   ]
  },
  {
   "cell_type": "code",
   "execution_count": 46,
   "id": "d82a0883-2f52-4f5c-862e-891bfd9eb463",
   "metadata": {
    "tags": []
   },
   "outputs": [],
   "source": [
    "doc1 = doc1[['sales', 'date', 'region']]\n",
    "doc2 = doc2[['sales', 'date', 'region']]\n",
    "doc3 = doc3[['sales', 'date', 'region']]\n",
    "\n",
    "sales_total= pd.concat([doc1, doc2, doc3], ignore_index=True)\n",
    "sales_total.to_csv('sales_total.csv', index=False)\n"
   ]
  },
  {
   "cell_type": "code",
   "execution_count": 47,
   "id": "a8697d1a-7e6d-4484-8b7e-ca16cbdaebfc",
   "metadata": {
    "tags": []
   },
   "outputs": [
    {
     "data": {
      "text/html": [
       "<div>\n",
       "<style scoped>\n",
       "    .dataframe tbody tr th:only-of-type {\n",
       "        vertical-align: middle;\n",
       "    }\n",
       "\n",
       "    .dataframe tbody tr th {\n",
       "        vertical-align: top;\n",
       "    }\n",
       "\n",
       "    .dataframe thead th {\n",
       "        text-align: right;\n",
       "    }\n",
       "</style>\n",
       "<table border=\"1\" class=\"dataframe\">\n",
       "  <thead>\n",
       "    <tr style=\"text-align: right;\">\n",
       "      <th></th>\n",
       "      <th>sales</th>\n",
       "      <th>date</th>\n",
       "      <th>region</th>\n",
       "    </tr>\n",
       "  </thead>\n",
       "  <tbody>\n",
       "    <tr>\n",
       "      <th>0</th>\n",
       "      <td>1638.0</td>\n",
       "      <td>2018-02-06</td>\n",
       "      <td>north</td>\n",
       "    </tr>\n",
       "    <tr>\n",
       "      <th>1</th>\n",
       "      <td>1647.0</td>\n",
       "      <td>2018-02-06</td>\n",
       "      <td>south</td>\n",
       "    </tr>\n",
       "    <tr>\n",
       "      <th>2</th>\n",
       "      <td>1731.0</td>\n",
       "      <td>2018-02-06</td>\n",
       "      <td>east</td>\n",
       "    </tr>\n",
       "    <tr>\n",
       "      <th>3</th>\n",
       "      <td>1557.0</td>\n",
       "      <td>2018-02-06</td>\n",
       "      <td>west</td>\n",
       "    </tr>\n",
       "    <tr>\n",
       "      <th>4</th>\n",
       "      <td>1587.0</td>\n",
       "      <td>2018-02-07</td>\n",
       "      <td>north</td>\n",
       "    </tr>\n",
       "    <tr>\n",
       "      <th>...</th>\n",
       "      <td>...</td>\n",
       "      <td>...</td>\n",
       "      <td>...</td>\n",
       "    </tr>\n",
       "    <tr>\n",
       "      <th>5875</th>\n",
       "      <td>2390.0</td>\n",
       "      <td>2022-02-13</td>\n",
       "      <td>west</td>\n",
       "    </tr>\n",
       "    <tr>\n",
       "      <th>5876</th>\n",
       "      <td>2035.0</td>\n",
       "      <td>2022-02-14</td>\n",
       "      <td>north</td>\n",
       "    </tr>\n",
       "    <tr>\n",
       "      <th>5877</th>\n",
       "      <td>2465.0</td>\n",
       "      <td>2022-02-14</td>\n",
       "      <td>south</td>\n",
       "    </tr>\n",
       "    <tr>\n",
       "      <th>5878</th>\n",
       "      <td>2500.0</td>\n",
       "      <td>2022-02-14</td>\n",
       "      <td>east</td>\n",
       "    </tr>\n",
       "    <tr>\n",
       "      <th>5879</th>\n",
       "      <td>2115.0</td>\n",
       "      <td>2022-02-14</td>\n",
       "      <td>west</td>\n",
       "    </tr>\n",
       "  </tbody>\n",
       "</table>\n",
       "<p>5880 rows × 3 columns</p>\n",
       "</div>"
      ],
      "text/plain": [
       "       sales        date region\n",
       "0     1638.0  2018-02-06  north\n",
       "1     1647.0  2018-02-06  south\n",
       "2     1731.0  2018-02-06   east\n",
       "3     1557.0  2018-02-06   west\n",
       "4     1587.0  2018-02-07  north\n",
       "...      ...         ...    ...\n",
       "5875  2390.0  2022-02-13   west\n",
       "5876  2035.0  2022-02-14  north\n",
       "5877  2465.0  2022-02-14  south\n",
       "5878  2500.0  2022-02-14   east\n",
       "5879  2115.0  2022-02-14   west\n",
       "\n",
       "[5880 rows x 3 columns]"
      ]
     },
     "execution_count": 47,
     "metadata": {},
     "output_type": "execute_result"
    }
   ],
   "source": [
    "sales_total"
   ]
  },
  {
   "cell_type": "code",
   "execution_count": null,
   "id": "80b4ccb0-ff31-480f-86f3-0d2e1c94a610",
   "metadata": {},
   "outputs": [],
   "source": []
  }
 ],
 "metadata": {
  "kernelspec": {
   "display_name": "Python 3 (ipykernel)",
   "language": "python",
   "name": "python3"
  },
  "language_info": {
   "codemirror_mode": {
    "name": "ipython",
    "version": 3
   },
   "file_extension": ".py",
   "mimetype": "text/x-python",
   "name": "python",
   "nbconvert_exporter": "python",
   "pygments_lexer": "ipython3",
   "version": "3.10.11"
  }
 },
 "nbformat": 4,
 "nbformat_minor": 5
}
