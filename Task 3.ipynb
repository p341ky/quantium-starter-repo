{
 "cells": [
  {
   "cell_type": "code",
   "execution_count": 2,
   "id": "3b15db67-22cc-40b3-82ed-b7671d89fbd4",
   "metadata": {
    "tags": []
   },
   "outputs": [
    {
     "name": "stdout",
     "output_type": "stream",
     "text": [
      "Collecting dash\n",
      "  Using cached dash-2.14.0-py3-none-any.whl (10.4 MB)\n",
      "Collecting Flask<2.3.0,>=1.0.4 (from dash)\n",
      "  Using cached Flask-2.2.5-py3-none-any.whl (101 kB)\n",
      "Requirement already satisfied: Werkzeug<2.3.0 in c:\\users\\jean\\anaconda3\\lib\\site-packages (from dash) (2.2.3)\n",
      "Collecting plotly>=5.0.0 (from dash)\n",
      "  Using cached plotly-5.17.0-py2.py3-none-any.whl (15.6 MB)\n",
      "Collecting dash-html-components==2.0.0 (from dash)\n",
      "  Using cached dash_html_components-2.0.0-py3-none-any.whl (4.1 kB)\n",
      "Collecting dash-core-components==2.0.0 (from dash)\n",
      "  Using cached dash_core_components-2.0.0-py3-none-any.whl (3.8 kB)\n",
      "Collecting dash-table==5.0.0 (from dash)\n",
      "  Using cached dash_table-5.0.0-py3-none-any.whl (3.9 kB)\n",
      "Requirement already satisfied: typing-extensions>=4.1.1 in c:\\users\\jean\\anaconda3\\lib\\site-packages (from dash) (4.6.3)\n",
      "Requirement already satisfied: requests in c:\\users\\jean\\anaconda3\\lib\\site-packages (from dash) (2.29.0)\n",
      "Collecting retrying (from dash)\n",
      "  Using cached retrying-1.3.4-py3-none-any.whl (11 kB)\n",
      "Collecting ansi2html (from dash)\n",
      "  Using cached ansi2html-1.8.0-py3-none-any.whl (16 kB)\n",
      "Requirement already satisfied: nest-asyncio in c:\\users\\jean\\anaconda3\\lib\\site-packages (from dash) (1.5.6)\n",
      "Requirement already satisfied: setuptools in c:\\users\\jean\\anaconda3\\lib\\site-packages (from dash) (67.8.0)\n",
      "Collecting importlib-metadata (from dash)\n",
      "  Using cached importlib_metadata-6.8.0-py3-none-any.whl (22 kB)\n",
      "Requirement already satisfied: Jinja2>=3.0 in c:\\users\\jean\\anaconda3\\lib\\site-packages (from Flask<2.3.0,>=1.0.4->dash) (3.1.2)\n",
      "Collecting itsdangerous>=2.0 (from Flask<2.3.0,>=1.0.4->dash)\n",
      "  Using cached itsdangerous-2.1.2-py3-none-any.whl (15 kB)\n",
      "Requirement already satisfied: click>=8.0 in c:\\users\\jean\\anaconda3\\lib\\site-packages (from Flask<2.3.0,>=1.0.4->dash) (8.0.4)\n",
      "Collecting tenacity>=6.2.0 (from plotly>=5.0.0->dash)\n",
      "  Using cached tenacity-8.2.3-py3-none-any.whl (24 kB)\n",
      "Requirement already satisfied: packaging in c:\\users\\jean\\anaconda3\\lib\\site-packages (from plotly>=5.0.0->dash) (23.0)\n",
      "Requirement already satisfied: MarkupSafe>=2.1.1 in c:\\users\\jean\\anaconda3\\lib\\site-packages (from Werkzeug<2.3.0->dash) (2.1.1)\n",
      "Collecting zipp>=0.5 (from importlib-metadata->dash)\n",
      "  Using cached zipp-3.17.0-py3-none-any.whl (7.4 kB)\n",
      "Requirement already satisfied: charset-normalizer<4,>=2 in c:\\users\\jean\\anaconda3\\lib\\site-packages (from requests->dash) (2.0.4)\n",
      "Requirement already satisfied: idna<4,>=2.5 in c:\\users\\jean\\anaconda3\\lib\\site-packages (from requests->dash) (3.4)\n",
      "Requirement already satisfied: urllib3<1.27,>=1.21.1 in c:\\users\\jean\\anaconda3\\lib\\site-packages (from requests->dash) (1.26.16)\n",
      "Requirement already satisfied: certifi>=2017.4.17 in c:\\users\\jean\\anaconda3\\lib\\site-packages (from requests->dash) (2023.7.22)\n",
      "Requirement already satisfied: six>=1.7.0 in c:\\users\\jean\\anaconda3\\lib\\site-packages (from retrying->dash) (1.16.0)\n",
      "Requirement already satisfied: colorama in c:\\users\\jean\\anaconda3\\lib\\site-packages (from click>=8.0->Flask<2.3.0,>=1.0.4->dash) (0.4.6)\n",
      "Installing collected packages: dash-table, dash-html-components, dash-core-components, zipp, tenacity, retrying, itsdangerous, ansi2html, plotly, importlib-metadata, Flask, dash\n",
      "Successfully installed Flask-2.2.5 ansi2html-1.8.0 dash-2.14.0 dash-core-components-2.0.0 dash-html-components-2.0.0 dash-table-5.0.0 importlib-metadata-6.8.0 itsdangerous-2.1.2 plotly-5.17.0 retrying-1.3.4 tenacity-8.2.3 zipp-3.17.0\n"
     ]
    }
   ],
   "source": [
    "!pip install dash\n"
   ]
  },
  {
   "cell_type": "code",
   "execution_count": 3,
   "id": "91bc74b7-a793-49ae-ab13-b5526a3ea9d7",
   "metadata": {
    "tags": []
   },
   "outputs": [
    {
     "data": {
      "text/html": [
       "\n",
       "        <iframe\n",
       "            width=\"100%\"\n",
       "            height=\"650\"\n",
       "            src=\"http://127.0.0.1:8050/\"\n",
       "            frameborder=\"0\"\n",
       "            allowfullscreen\n",
       "            \n",
       "        ></iframe>\n",
       "        "
      ],
      "text/plain": [
       "<IPython.lib.display.IFrame at 0x2ac4cb2a4d0>"
      ]
     },
     "metadata": {},
     "output_type": "display_data"
    }
   ],
   "source": [
    "\n",
    "import dash\n",
    "from dash import dcc, html\n",
    "import pandas as pd\n",
    "import plotly.express as px\n",
    "\n",
    "\n",
    "df = pd.read_csv('sales_total.csv')\n",
    "\n",
    "\n",
    "app = dash.Dash(__name__)\n",
    "\n",
    "\n",
    "app.layout = html.Div([\n",
    "    html.H1(\"Sales Data Visualizer\"),\n",
    "    dcc.Graph(\n",
    "        figure=px.line(df, x='date', y='sales', labels={'date': 'Date', 'sales': 'Sales'}),\n",
    "    )\n",
    "])\n",
    "\n",
    "\n",
    "if __name__ == '__main__':\n",
    "    app.run_server(debug=True)\n"
   ]
  },
  {
   "cell_type": "code",
   "execution_count": null,
   "id": "07bd90bd-37a0-4315-a86c-e4178f0f2a0f",
   "metadata": {},
   "outputs": [],
   "source": []
  }
 ],
 "metadata": {
  "kernelspec": {
   "display_name": "Python 3 (ipykernel)",
   "language": "python",
   "name": "python3"
  },
  "language_info": {
   "codemirror_mode": {
    "name": "ipython",
    "version": 3
   },
   "file_extension": ".py",
   "mimetype": "text/x-python",
   "name": "python",
   "nbconvert_exporter": "python",
   "pygments_lexer": "ipython3",
   "version": "3.10.11"
  }
 },
 "nbformat": 4,
 "nbformat_minor": 5
}
